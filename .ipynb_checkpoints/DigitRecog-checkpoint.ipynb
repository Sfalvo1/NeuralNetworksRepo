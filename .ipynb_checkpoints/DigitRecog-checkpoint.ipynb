{
 "cells": [
  {
   "cell_type": "code",
   "execution_count": 1,
   "metadata": {},
   "outputs": [],
   "source": [
    "import tensorflow as tf\n",
    "from tensorflow import keras\n",
    "import matplotlib.pyplot as plt\n",
    "%matplotlib inline\n",
    "import numpy as np"
   ]
  },
  {
   "cell_type": "code",
   "execution_count": 2,
   "metadata": {},
   "outputs": [
    {
     "name": "stdout",
     "output_type": "stream",
     "text": [
      "Downloading data from https://storage.googleapis.com/tensorflow/tf-keras-datasets/mnist.npz\n",
      "11493376/11490434 [==============================] - 10s 1us/step\n"
     ]
    }
   ],
   "source": [
    "(X_train, y_train) , (X_test, y_test) = keras.datasets.mnist.load_data()"
   ]
  },
  {
   "cell_type": "code",
   "execution_count": 3,
   "metadata": {},
   "outputs": [
    {
     "data": {
      "text/plain": [
       "60000"
      ]
     },
     "execution_count": 3,
     "metadata": {},
     "output_type": "execute_result"
    }
   ],
   "source": [
    "len(X_train)"
   ]
  },
  {
   "cell_type": "code",
   "execution_count": 4,
   "metadata": {},
   "outputs": [
    {
     "data": {
      "text/plain": [
       "10000"
      ]
     },
     "execution_count": 4,
     "metadata": {},
     "output_type": "execute_result"
    }
   ],
   "source": [
    "len(X_test)"
   ]
  },
  {
   "cell_type": "code",
   "execution_count": 6,
   "metadata": {
    "scrolled": true
   },
   "outputs": [
    {
     "data": {
      "text/plain": [
       "(28, 28)"
      ]
     },
     "execution_count": 6,
     "metadata": {},
     "output_type": "execute_result"
    }
   ],
   "source": [
    "X_train[0].shape"
   ]
  },
  {
   "cell_type": "code",
   "execution_count": 38,
   "metadata": {},
   "outputs": [],
   "source": [
    "#X_train = X_train / 255\n",
    "#X_test = X_test / 255\n",
    "# Sets values between 0 and 1, because 255 is the highest possible value for every entry"
   ]
  },
  {
   "cell_type": "code",
   "execution_count": 39,
   "metadata": {},
   "outputs": [
    {
     "data": {
      "text/plain": [
       "<matplotlib.image.AxesImage at 0x29dca104370>"
      ]
     },
     "execution_count": 39,
     "metadata": {},
     "output_type": "execute_result"
    },
    {
     "data": {
      "image/png": "[encoded data removed]",
      "text/plain": [
       "<Figure size 288x288 with 1 Axes>"
      ]
     },
     "metadata": {
      "needs_background": "light"
     },
     "output_type": "display_data"
    }
   ],
   "source": [
    "plt.matshow(X_train[1])"
   ]
  },
  {
   "cell_type": "code",
   "execution_count": 40,
   "metadata": {},
   "outputs": [
    {
     "data": {
      "text/plain": [
       "0"
      ]
     },
     "execution_count": 40,
     "metadata": {},
     "output_type": "execute_result"
    }
   ],
   "source": [
    "y_train[1]"
   ]
  },
  {
   "cell_type": "code",
   "execution_count": 41,
   "metadata": {
    "scrolled": false
   },
   "outputs": [
    {
     "data": {
      "text/plain": [
       "array([5, 0, 4, 1, 9], dtype=uint8)"
      ]
     },
     "execution_count": 41,
     "metadata": {},
     "output_type": "execute_result"
    }
   ],
   "source": [
    "y_train[:5]"
   ]
  },
  {
   "cell_type": "code",
   "execution_count": 42,
   "metadata": {},
   "outputs": [
    {
     "data": {
      "text/plain": [
       "(60000, 28, 28)"
      ]
     },
     "execution_count": 42,
     "metadata": {},
     "output_type": "execute_result"
    }
   ],
   "source": [
    "X_train.shape # At first is two dimensional. The first number is the total number of entries"
   ]
  },
  {
   "cell_type": "code",
   "execution_count": 43,
   "metadata": {},
   "outputs": [
    {
     "data": {
      "text/plain": [
       "(10000, 784)"
      ]
     },
     "execution_count": 43,
     "metadata": {},
     "output_type": "execute_result"
    }
   ],
   "source": [
    "X_train_flattened = X_train.reshape(len(X_train), 28*28)\n",
    "X_test_flattened = X_test.reshape(len(X_test), 28*28)\n",
    "X_test_flattened.shape"
   ]
  },
  {
   "cell_type": "code",
   "execution_count": 44,
   "metadata": {},
   "outputs": [
    {
     "name": "stdout",
     "output_type": "stream",
     "text": [
      "Epoch 1/5\n",
      "1875/1875 [==============================] - 2s 660us/step - loss: 2.2443 - accuracy: 0.4960\n",
      "Epoch 2/5\n",
      "1875/1875 [==============================] - 1s 622us/step - loss: 2.0261 - accuracy: 0.6826\n",
      "Epoch 3/5\n",
      "1875/1875 [==============================] - 1s 614us/step - loss: 1.8337 - accuracy: 0.7338\n",
      "Epoch 4/5\n",
      "1875/1875 [==============================] - 1s 696us/step - loss: 1.6647 - accuracy: 0.7539\n",
      "Epoch 5/5\n",
      "1875/1875 [==============================] - 1s 739us/step - loss: 1.5172 - accuracy: 0.7741\n"
     ]
    },
    {
     "data": {
      "text/plain": [
       "<tensorflow.python.keras.callbacks.History at 0x29dca01b3d0>"
      ]
     },
     "execution_count": 44,
     "metadata": {},
     "output_type": "execute_result"
    }
   ],
   "source": [
    "model = keras.Sequential([\n",
    "    keras.layers.Dense(10, input_shape=(784,), activation=\"sigmoid\") # 10 output and 784 input shape\n",
    "]) # Sequential means there will be a stack of layers in the NN and will accept every layer as one element\n",
    "\n",
    "model.compile(\n",
    "    optimizer='adam', \n",
    "    loss='sparse_categorical_crossentropy', # means output class is categorical and sparse means output variable is an int\n",
    "    metrics = ['accuracy']\n",
    ")\n",
    "\n",
    "model.fit(X_train_flattened, y_train, epochs=5)"
   ]
  },
  {
   "cell_type": "code",
   "execution_count": 45,
   "metadata": {},
   "outputs": [
    {
     "name": "stdout",
     "output_type": "stream",
     "text": [
      "313/313 [==============================] - 0s 492us/step - loss: 1.4042 - accuracy: 0.8015\n"
     ]
    },
    {
     "data": {
      "text/plain": [
       "[1.4041844606399536, 0.8015000224113464]"
      ]
     },
     "execution_count": 45,
     "metadata": {},
     "output_type": "execute_result"
    }
   ],
   "source": [
    "model.evaluate(X_test_flattened, y_test)"
   ]
  },
  {
   "cell_type": "code",
   "execution_count": 46,
   "metadata": {},
   "outputs": [
    {
     "data": {
      "text/plain": [
       "<matplotlib.image.AxesImage at 0x29dbc7b8220>"
      ]
     },
     "execution_count": 46,
     "metadata": {},
     "output_type": "execute_result"
    },
    {
     "data": {
      "image/png": "[encoded data removed]",
      "text/plain": [
       "<Figure size 288x288 with 1 Axes>"
      ]
     },
     "metadata": {
      "needs_background": "light"
     },
     "output_type": "display_data"
    }
   ],
   "source": [
    "plt.matshow(X_test[2])"
   ]
  },
  {
   "cell_type": "code",
   "execution_count": 47,
   "metadata": {},
   "outputs": [
    {
     "data": {
      "text/plain": [
       "array([0.2776607 , 0.821684  , 0.4637416 , 0.4536306 , 0.41179442,\n",
       "       0.42320138, 0.4413822 , 0.5091595 , 0.41985676, 0.4274661 ],\n",
       "      dtype=float32)"
      ]
     },
     "execution_count": 47,
     "metadata": {},
     "output_type": "execute_result"
    }
   ],
   "source": [
    "y_predicted = model.predict(X_test_flattened)\n",
    "y_predicted[2]"
   ]
  },
  {
   "cell_type": "code",
   "execution_count": 48,
   "metadata": {},
   "outputs": [
    {
     "data": {
      "text/plain": [
       "1"
      ]
     },
     "execution_count": 48,
     "metadata": {},
     "output_type": "execute_result"
    }
   ],
   "source": [
    "np.argmax(y_predicted[2])"
   ]
  },
  {
   "cell_type": "code",
   "execution_count": 49,
   "metadata": {},
   "outputs": [
    {
     "data": {
      "text/plain": [
       "[7, 2, 1, 0, 4]"
      ]
     },
     "execution_count": 49,
     "metadata": {},
     "output_type": "execute_result"
    }
   ],
   "source": [
    "y_predicted_labels = [np.argmax(i) for i in y_predicted]\n",
    "y_predicted_labels[:5]"
   ]
  },
  {
   "cell_type": "code",
   "execution_count": 50,
   "metadata": {},
   "outputs": [
    {
     "data": {
      "text/plain": [
       "<tf.Tensor: shape=(10, 10), dtype=int32, numpy=\n",
       "array([[ 923,    2,    6,    7,    0,    2,   33,    1,    6,    0],\n",
       "       [   0, 1108,    9,    4,    0,    0,    4,    0,   10,    0],\n",
       "       [  19,   81,  797,   26,   13,    0,   37,   22,   36,    1],\n",
       "       [   6,   48,   28,  859,    0,    2,    6,   26,   26,    9],\n",
       "       [   2,   48,    3,    0,  776,    0,   32,   13,    4,  104],\n",
       "       [  37,  111,    4,  206,   29,  373,   29,   48,   29,   26],\n",
       "       [  26,   47,    7,    0,    9,    8,  858,    2,    1,    0],\n",
       "       [   2,   67,   12,    2,    6,    0,    4,  910,    7,   18],\n",
       "       [  22,   89,   12,   90,   12,    5,   18,   29,  675,   22],\n",
       "       [  23,   43,    5,   10,   69,    0,    1,  113,    9,  736]])>"
      ]
     },
     "execution_count": 50,
     "metadata": {},
     "output_type": "execute_result"
    }
   ],
   "source": [
    "cm = tf.math.confusion_matrix(labels=y_test, predictions=y_predicted_labels)\n",
    "cm"
   ]
  },
  {
   "cell_type": "code",
   "execution_count": 52,
   "metadata": {},
   "outputs": [
    {
     "data": {
      "text/plain": [
       "Text(69.0, 0.5, 'Truth')"
      ]
     },
     "execution_count": 52,
     "metadata": {},
     "output_type": "execute_result"
    },
    {
     "data": {
      "image/png": "[encoded data removed]",
      "text/plain": [
       "<Figure size 720x504 with 2 Axes>"
      ]
     },
     "metadata": {
      "needs_background": "light"
     },
     "output_type": "display_data"
    }
   ],
   "source": [
    "import seaborn as sns\n",
    "plt.figure(figsize=(10,7))\n",
    "sns.heatmap(cm, annot=True, fmt='d')\n",
    "plt.xlabel('Predicted')\n",
    "plt.ylabel('Truth')"
   ]
  },
  {
   "cell_type": "code",
   "execution_count": 54,
   "metadata": {},
   "outputs": [
    {
     "name": "stdout",
     "output_type": "stream",
     "text": [
      "Epoch 1/10\n",
      "1875/1875 [==============================] - 2s 699us/step - loss: 1.7205 - accuracy: 0.5698\n",
      "Epoch 2/10\n",
      "1875/1875 [==============================] - 1s 697us/step - loss: 0.5653 - accuracy: 0.8608\n",
      "Epoch 3/10\n",
      "1875/1875 [==============================] - 1s 747us/step - loss: 0.4030 - accuracy: 0.8920\n",
      "Epoch 4/10\n",
      "1875/1875 [==============================] - 1s 685us/step - loss: 0.3603 - accuracy: 0.8989\n",
      "Epoch 5/10\n",
      "1875/1875 [==============================] - 1s 689us/step - loss: 0.3277 - accuracy: 0.9073\n",
      "Epoch 6/10\n",
      "1875/1875 [==============================] - 1s 793us/step - loss: 0.3054 - accuracy: 0.9125\n",
      "Epoch 7/10\n",
      "1875/1875 [==============================] - 1s 797us/step - loss: 0.2965 - accuracy: 0.9150\n",
      "Epoch 8/10\n",
      "1875/1875 [==============================] - 1s 778us/step - loss: 0.2803 - accuracy: 0.9198\n",
      "Epoch 9/10\n",
      "1875/1875 [==============================] - 1s 776us/step - loss: 0.2730 - accuracy: 0.9208\n",
      "Epoch 10/10\n",
      "1875/1875 [==============================] - 2s 873us/step - loss: 0.2662 - accuracy: 0.9232\n"
     ]
    },
    {
     "data": {
      "text/plain": [
       "<tensorflow.python.keras.callbacks.History at 0x29dd9d01a30>"
      ]
     },
     "execution_count": 54,
     "metadata": {},
     "output_type": "execute_result"
    }
   ],
   "source": [
    "model = keras.Sequential([\n",
    "    keras.layers.Dense(100, input_shape=(784,), activation=\"relu\"),\n",
    "    keras.layers.Dense(10, activation=\"sigmoid\")\n",
    "    # Second layer doesn't need shape arg, because it'll figure it out from the previous\n",
    "])\n",
    "\n",
    "model.compile(\n",
    "    optimizer='adam', \n",
    "    loss='sparse_categorical_crossentropy',\n",
    "    metrics = ['accuracy']\n",
    ")\n",
    "\n",
    "model.fit(X_train_flattened, y_train, epochs=10)"
   ]
  },
  {
   "cell_type": "code",
   "execution_count": 55,
   "metadata": {},
   "outputs": [
    {
     "name": "stdout",
     "output_type": "stream",
     "text": [
      "313/313 [==============================] - 0s 513us/step - loss: 0.2558 - accuracy: 0.9257\n"
     ]
    },
    {
     "data": {
      "text/plain": [
       "[0.2557646334171295, 0.9257000088691711]"
      ]
     },
     "execution_count": 55,
     "metadata": {},
     "output_type": "execute_result"
    }
   ],
   "source": [
    "model.evaluate(X_test_flattened, y_test)"
   ]
  },
  {
   "cell_type": "code",
   "execution_count": 56,
   "metadata": {},
   "outputs": [
    {
     "data": {
      "text/plain": [
       "Text(69.0, 0.5, 'Truth')"
      ]
     },
     "execution_count": 56,
     "metadata": {},
     "output_type": "execute_result"
    },
    {
     "data": {
      "image/png": "[encoded data removed]",
      "text/plain": [
       "<Figure size 720x504 with 2 Axes>"
      ]
     },
     "metadata": {
      "needs_background": "light"
     },
     "output_type": "display_data"
    }
   ],
   "source": [
    "y_predicted = model.predict(X_test_flattened)\n",
    "y_predicted_labels = [np.argmax(i) for i in y_predicted]\n",
    "cm = tf.math.confusion_matrix(labels=y_test, predictions=y_predicted_labels)\n",
    "\n",
    "import seaborn as sns\n",
    "plt.figure(figsize=(10,7))\n",
    "sns.heatmap(cm, annot=True, fmt='d')\n",
    "plt.xlabel('Predicted')\n",
    "plt.ylabel('Truth')"
   ]
  },
  {
   "cell_type": "code",
   "execution_count": 72,
   "metadata": {},
   "outputs": [
    {
     "name": "stdout",
     "output_type": "stream",
     "text": [
      "Epoch 1/20\n",
      "1875/1875 [==============================] - 2s 701us/step - loss: 1.7330 - accuracy: 0.5565\n",
      "Epoch 2/20\n",
      "1875/1875 [==============================] - 1s 663us/step - loss: 0.5701 - accuracy: 0.8559\n",
      "Epoch 3/20\n",
      "1875/1875 [==============================] - 1s 662us/step - loss: 0.4162 - accuracy: 0.8889\n",
      "Epoch 4/20\n",
      "1875/1875 [==============================] - 1s 695us/step - loss: 0.3656 - accuracy: 0.8980\n",
      "Epoch 5/20\n",
      "1875/1875 [==============================] - 1s 660us/step - loss: 0.3357 - accuracy: 0.9056\n",
      "Epoch 6/20\n",
      "1875/1875 [==============================] - 1s 654us/step - loss: 0.3188 - accuracy: 0.9090\n",
      "Epoch 7/20\n",
      "1875/1875 [==============================] - 1s 660us/step - loss: 0.2991 - accuracy: 0.9158\n",
      "Epoch 8/20\n",
      "1875/1875 [==============================] - 1s 669us/step - loss: 0.2880 - accuracy: 0.9164\n",
      "Epoch 9/20\n",
      "1875/1875 [==============================] - 1s 798us/step - loss: 0.2857 - accuracy: 0.9187\n",
      "Epoch 10/20\n",
      "1875/1875 [==============================] - 2s 824us/step - loss: 0.2759 - accuracy: 0.9199\n",
      "Epoch 11/20\n",
      "1875/1875 [==============================] - 2s 830us/step - loss: 0.2674 - accuracy: 0.9216\n",
      "Epoch 12/20\n",
      "1875/1875 [==============================] - 2s 833us/step - loss: 0.2605 - accuracy: 0.9245\n",
      "Epoch 13/20\n",
      "1875/1875 [==============================] - 2s 824us/step - loss: 0.2459 - accuracy: 0.9290\n",
      "Epoch 14/20\n",
      "1875/1875 [==============================] - 2s 822us/step - loss: 0.2423 - accuracy: 0.9297\n",
      "Epoch 15/20\n",
      "1875/1875 [==============================] - 2s 830us/step - loss: 0.2375 - accuracy: 0.9314\n",
      "Epoch 16/20\n",
      "1875/1875 [==============================] - 2s 817us/step - loss: 0.2260 - accuracy: 0.9335\n",
      "Epoch 17/20\n",
      "1875/1875 [==============================] - 2s 815us/step - loss: 0.2219 - accuracy: 0.9346\n",
      "Epoch 18/20\n",
      "1875/1875 [==============================] - 2s 826us/step - loss: 0.2165 - accuracy: 0.9378\n",
      "Epoch 19/20\n",
      "1875/1875 [==============================] - 2s 820us/step - loss: 0.2051 - accuracy: 0.9404\n",
      "Epoch 20/20\n",
      "1875/1875 [==============================] - 2s 812us/step - loss: 0.2079 - accuracy: 0.9395\n"
     ]
    },
    {
     "data": {
      "text/plain": [
       "<tensorflow.python.keras.callbacks.History at 0x29dd23379a0>"
      ]
     },
     "execution_count": 72,
     "metadata": {},
     "output_type": "execute_result"
    }
   ],
   "source": [
    "model = keras.Sequential([\n",
    "    keras.layers.Flatten(input_shape=(28,28)), #Now,you don't need to create flatten array\n",
    "    keras.layers.Dense(100, activation=\"relu\"),\n",
    "    keras.layers.Dense(10, activation=\"sigmoid\")\n",
    "    # Second layer doesn't need shape arg, because it'll figure it out from the previous\n",
    "])\n",
    "\n",
    "model.compile(\n",
    "    optimizer='adam', \n",
    "    loss='sparse_categorical_crossentropy',\n",
    "    metrics = ['accuracy']\n",
    ")\n",
    "\n",
    "model.fit(X_train, y_train, epochs=20)"
   ]
  },
  {
   "cell_type": "code",
   "execution_count": null,
   "metadata": {},
   "outputs": [],
   "source": []
  }
 ],
 "metadata": {
  "kernelspec": {
   "display_name": "Python 3",
   "language": "python",
   "name": "python3"
  },
  "language_info": {
   "codemirror_mode": {
    "name": "ipython",
    "version": 3
   },
   "file_extension": ".py",
   "mimetype": "text/x-python",
   "name": "python",
   "nbconvert_exporter": "python",
   "pygments_lexer": "ipython3",
   "version": "3.8.5"
  }
 },
 "nbformat": 4,
 "nbformat_minor": 4
}
